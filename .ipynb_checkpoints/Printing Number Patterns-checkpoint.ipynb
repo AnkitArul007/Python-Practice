{
 "cells": [
  {
   "cell_type": "markdown",
   "id": "5be77d39",
   "metadata": {},
   "source": [
    "### Printing Patterns\n",
    "        1234\n",
    "        123\n",
    "        12\n",
    "        1"
   ]
  },
  {
   "cell_type": "code",
   "execution_count": 7,
   "id": "2276000b",
   "metadata": {},
   "outputs": [
    {
     "name": "stdout",
     "output_type": "stream",
     "text": [
      "4\n",
      "1234\n",
      "123\n",
      "12\n",
      "1\n"
     ]
    }
   ],
   "source": [
    "n = int(input())\n",
    "i = n\n",
    "while i >= 1:\n",
    "    j = 1\n",
    "    while j <= i:\n",
    "        print(j, end=\"\")\n",
    "        j +=1\n",
    "    print()\n",
    "    i -= 1"
   ]
  },
  {
   "cell_type": "markdown",
   "id": "70812f82",
   "metadata": {},
   "source": [
    "### Printing pattern - \n",
    "        1\n",
    "        11\n",
    "        121\n",
    "        1221\n",
    "        12221"
   ]
  },
  {
   "cell_type": "code",
   "execution_count": 18,
   "id": "2f820b52",
   "metadata": {},
   "outputs": [
    {
     "name": "stdout",
     "output_type": "stream",
     "text": [
      "4\n",
      "1\n",
      "11\n",
      "121\n",
      "1221\n"
     ]
    }
   ],
   "source": [
    "n = int(input())\n",
    "i = 1\n",
    "while i <= n:\n",
    "    j = 1\n",
    "    while j <= i:\n",
    "        if i == 1:\n",
    "            print(1, end=\"\")\n",
    "        elif j == i or j == 1:\n",
    "            print(1, end=\"\")\n",
    "        else:\n",
    "            print(2, end=\"\")\n",
    "        j += 1\n",
    "    print()\n",
    "    i += 1\n",
    "    "
   ]
  },
  {
   "cell_type": "markdown",
   "id": "f48b122c",
   "metadata": {},
   "source": [
    "### Printing Pattern - \n",
    "        \n",
    "        1\n",
    "        11\n",
    "        202\n",
    "        3003\n",
    "        40004"
   ]
  },
  {
   "cell_type": "code",
   "execution_count": null,
   "id": "e1d0caee",
   "metadata": {},
   "outputs": [],
   "source": [
    "n = int(input())\n",
    "i = 0\n",
    "while i <= n-1:\n",
    "    j = 0\n",
    "    while j <= i:\n",
    "        if i == 0:\n",
    "            print(1, end=\"\")\n",
    "        elif j == 0 or j == i:\n",
    "            print(i, end=\"\")\n",
    "        else:\n",
    "            print(0, end=\"\")\n",
    "        j += 1\n",
    "    print()\n",
    "    i += 1"
   ]
  }
 ],
 "metadata": {
  "kernelspec": {
   "display_name": "Python 3 (ipykernel)",
   "language": "python",
   "name": "python3"
  },
  "language_info": {
   "codemirror_mode": {
    "name": "ipython",
    "version": 3
   },
   "file_extension": ".py",
   "mimetype": "text/x-python",
   "name": "python",
   "nbconvert_exporter": "python",
   "pygments_lexer": "ipython3",
   "version": "3.10.4"
  }
 },
 "nbformat": 4,
 "nbformat_minor": 5
}
