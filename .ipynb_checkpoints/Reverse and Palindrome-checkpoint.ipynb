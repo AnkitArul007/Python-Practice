{
 "cells": [
  {
   "cell_type": "markdown",
   "id": "1e66da07",
   "metadata": {},
   "source": [
    "#### Write a program to generate the reverse of a given number N. Print the corresponding reverse number.\n",
    "Note : If a number has trailing zeros, then its reverse will not include them. For e.g., reverse of 10400 will be 401 instead of 00401."
   ]
  },
  {
   "cell_type": "code",
   "execution_count": 3,
   "id": "74cab60c",
   "metadata": {},
   "outputs": [
    {
     "name": "stdout",
     "output_type": "stream",
     "text": [
      "1234567\n",
      "7654321\n"
     ]
    }
   ],
   "source": [
    "n = int(input())\n",
    "rev_num = 0\n",
    "while n > 0:\n",
    "    r = n % 10 #remainder by dividing n by 10\n",
    "    if r == 0:\n",
    "        rev_num = rev_num*1 + r\n",
    "    else:\n",
    "        rev_num = rev_num*10 + r\n",
    "    n = n // 10\n",
    "\n",
    "print(rev_num)\n"
   ]
  },
  {
   "cell_type": "markdown",
   "id": "6fd8a3a0",
   "metadata": {},
   "source": [
    "#### Write a program to determine if given number is palindrome or not. Print true if it is palindrome, false otherwise.\n",
    "Palindrome are the numbers for which reverse is exactly same as the original one. For eg. 121\n"
   ]
  },
  {
   "cell_type": "code",
   "execution_count": 46,
   "id": "b82aa73c",
   "metadata": {},
   "outputs": [
    {
     "name": "stdout",
     "output_type": "stream",
     "text": [
      "34656456\n",
      "False\n"
     ]
    }
   ],
   "source": [
    "n = int(input())\n",
    "rev_num = 0\n",
    "while n > 0:\n",
    "    r = n % 10 #remainder by dividing n by 10\n",
    "    if r == 0:\n",
    "        rev_num = rev_num*1 + r\n",
    "    else:\n",
    "        rev_num = rev_num*10 + r\n",
    "    n = n // 10\n",
    "\n",
    "print(rev_num)\n",
    "\n"
   ]
  }
 ],
 "metadata": {
  "kernelspec": {
   "display_name": "Python 3 (ipykernel)",
   "language": "python",
   "name": "python3"
  },
  "language_info": {
   "codemirror_mode": {
    "name": "ipython",
    "version": 3
   },
   "file_extension": ".py",
   "mimetype": "text/x-python",
   "name": "python",
   "nbconvert_exporter": "python",
   "pygments_lexer": "ipython3",
   "version": "3.10.4"
  }
 },
 "nbformat": 4,
 "nbformat_minor": 5
}
