{
 "cells": [
  {
   "cell_type": "markdown",
   "id": "17a5653a",
   "metadata": {},
   "source": [
    "##### Write a program that performs the tasks of a simple calculator. The program should first take an integer as input and then based on that integer perform the task as given below.\n",
    "\n",
    "1. If the input is 1, then 2 integers are taken from the user and their sum is printed.\n",
    "2. If the input is 2, then 2 integers are taken from the user and their difference(1st number - 2nd number) is printed.\n",
    "3. If the input is 3, then 2 integers are taken from the user and their product is printed.\n",
    "4. If the input is 4, then 2 integers are taken from the user and the quotient obtained (on dividing 1st number by 2nd number) is printed.\n",
    "5. If the input is 5, then 2 integers are taken from the user and their remainder(1st number mod 2nd number) is printed.\n",
    "6. If the input is 6, then the program exits.\n",
    "7. For any other input, then print \"Invalid Operation\".\n",
    " "
   ]
  },
  {
   "cell_type": "code",
   "execution_count": null,
   "id": "d03e8ec8",
   "metadata": {},
   "outputs": [
    {
     "name": "stdout",
     "output_type": "stream",
     "text": [
      "5\n",
      "Enter Num1 - 5\n",
      "Enter Num2 - 4\n",
      "Result is -  1\n",
      "5\n",
      "Enter Num1 - 5\n",
      "Enter Num2 - 6\n",
      "Result is -  5\n"
     ]
    }
   ],
   "source": [
    "while True:\n",
    "    choice = input()\n",
    "    \n",
    "    \n",
    "    if choice == \"1\":\n",
    "        num1 = int(input(\"Enter Num1 - \"))\n",
    "        num2 = int(input(\"Enter Num2 - \"))\n",
    "        print(\"Result is - \", num1 + num2)\n",
    "    elif choice == \"2\":\n",
    "        num1 = int(input(\"Enter Num1 - \"))\n",
    "        num2 = int(input(\"Enter Num2 - \"))\n",
    "        if num1 < num2:\n",
    "            num1, num2 = num2, num1\n",
    "        print(\"Result is - \", num1 - num2)\n",
    "    elif choice == \"3\":\n",
    "        num1 = int(input(\"Enter Num1 - \"))\n",
    "        num2 = int(input(\"Enter Num2 - \"))\n",
    "        print(\"Result is - \", num1 * num2)\n",
    "    elif choice == \"4\":\n",
    "        num1 = int(input(\"Enter Num1 - \"))\n",
    "        num2 = int(input(\"Enter Num2 - \"))\n",
    "        if num1 < num2:\n",
    "            num1, num2 = num2, num1\n",
    "        print(\"Result is - \", num1 / num2)\n",
    "    elif choice == \"5\":\n",
    "        num1 = int(input(\"Enter Num1 - \"))\n",
    "        num2 = int(input(\"Enter Num2 - \"))\n",
    "        if num1 < num2:\n",
    "            num1, num2 = num2, num1\n",
    "        print(\"Result is - \", num1 % num2)\n",
    "    else:\n",
    "        break\n",
    "else:\n",
    "    print(\"Invalid Operation\")"
   ]
  }
 ],
 "metadata": {
  "kernelspec": {
   "display_name": "Python 3 (ipykernel)",
   "language": "python",
   "name": "python3"
  },
  "language_info": {
   "codemirror_mode": {
    "name": "ipython",
    "version": 3
   },
   "file_extension": ".py",
   "mimetype": "text/x-python",
   "name": "python",
   "nbconvert_exporter": "python",
   "pygments_lexer": "ipython3",
   "version": "3.10.4"
  }
 },
 "nbformat": 4,
 "nbformat_minor": 5
}
