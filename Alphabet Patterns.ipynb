{
 "cells": [
  {
   "cell_type": "markdown",
   "id": "cfd76f65",
   "metadata": {},
   "source": [
    "## How to print alphabet and increment them "
   ]
  },
  {
   "cell_type": "markdown",
   "id": "041dbab6",
   "metadata": {},
   "source": [
    "### There are two basic methods-\n",
    "##### The alphabet nmber is known as ASCII number\n",
    "    # a> ord('A')-----this will give you the number of alphabet a\n",
    "    # b> chr(66)-----this will give you the alphabet in this number\n",
    "    #suppose ord(\"66\") = A,\n",
    "    # ord(\"67\") = B......and so on"
   ]
  },
  {
   "cell_type": "code",
   "execution_count": 4,
   "id": "63e1db10",
   "metadata": {
    "scrolled": true
   },
   "outputs": [
    {
     "name": "stdout",
     "output_type": "stream",
     "text": [
      "4\n",
      "D\n",
      "102\n"
     ]
    }
   ],
   "source": [
    "# how to get your work done and get ALPHABET printed-\n",
    "k = int(input())\n",
    "x = ord('A')\n",
    "ordTarget = x + k -1\n",
    "chrTarget = chr(ordTarget)# this is converting the user input in the required alphabet !!IMP\n",
    "print(chrTarget)\n"
   ]
  },
  {
   "cell_type": "markdown",
   "id": "0cf6a930",
   "metadata": {},
   "source": [
    "#### For small case alphabet-\n",
    "    #ord() value starts from - 97\n",
    "    #Suppose ord('a') = 97\n",
    "    # Also vice-versa chr(97) = a"
   ]
  },
  {
   "cell_type": "markdown",
   "id": "85f0841e",
   "metadata": {},
   "source": [
    "## Printing Patterns in alphabet "
   ]
  },
  {
   "cell_type": "markdown",
   "id": "07f37917",
   "metadata": {},
   "source": [
    "#### Printing same alphabet in a row using i"
   ]
  },
  {
   "cell_type": "code",
   "execution_count": 18,
   "id": "aef6459d",
   "metadata": {},
   "outputs": [
    {
     "name": "stdout",
     "output_type": "stream",
     "text": [
      "4\n",
      "AAAA\n",
      "BBBB\n",
      "CCCC\n",
      "DDDD\n"
     ]
    }
   ],
   "source": [
    "k = int(input())\n",
    "x = ord('A')\n",
    "i = 1\n",
    "while i <= k:\n",
    "    j = 1\n",
    "    while j <= k:\n",
    "        charOrd = chr(ord(\"A\") + i - 1)   \n",
    "        print(charOrd, end=\"\")\n",
    "        j += 1\n",
    "    print()\n",
    "    i += 1"
   ]
  },
  {
   "cell_type": "markdown",
   "id": "9e2353b3",
   "metadata": {},
   "source": [
    "#### Printing same alphabet in column"
   ]
  },
  {
   "cell_type": "code",
   "execution_count": 21,
   "id": "1c54794c",
   "metadata": {},
   "outputs": [
    {
     "name": "stdout",
     "output_type": "stream",
     "text": [
      "4\n",
      "ABCD\n",
      "ABCD\n",
      "ABCD\n",
      "ABCD\n"
     ]
    }
   ],
   "source": [
    "n = int(input())\n",
    "# x = ord('A')\n",
    "# charOrd = chr(ord('A')) + j -1\n",
    "i = 1\n",
    "while i <= n:\n",
    "    j = 1\n",
    "    while j <= n:\n",
    "        charOrd = chr(ord('A') + j -1)\n",
    "        print(charOrd, end=\"\")\n",
    "        j += 1\n",
    "    print()\n",
    "    i += 1\n"
   ]
  },
  {
   "cell_type": "markdown",
   "id": "8be8b456",
   "metadata": {},
   "source": [
    "#### Printing Pattern-\n",
    "        ABCD\n",
    "        BCDE\n",
    "        CDEF\n",
    "        DEFG"
   ]
  },
  {
   "cell_type": "code",
   "execution_count": 26,
   "id": "f0d0071c",
   "metadata": {},
   "outputs": [
    {
     "name": "stdout",
     "output_type": "stream",
     "text": [
      "4\n",
      "ABCD\n",
      "BCDE\n",
      "CDEF\n",
      "DEFG\n"
     ]
    }
   ],
   "source": [
    "n = int(input())\n",
    "i = 1\n",
    "while i <= n:\n",
    "    start_char = chr(ord('A') + i - 1) # Here we changed initial value from a to a += 1 !!!IMP\n",
    "    j = 1\n",
    "    while j <= n:\n",
    "        charOrd = chr(ord(start_char) + j -1)\n",
    "        print(charOrd, end=\"\")\n",
    "        j += 1\n",
    "    print()\n",
    "    i += 1"
   ]
  },
  {
   "cell_type": "markdown",
   "id": "e239afae",
   "metadata": {},
   "source": [
    "### Printing For Pattern-\n",
    "        A\n",
    "        BC\n",
    "        CDE\n",
    "        DEFG"
   ]
  },
  {
   "cell_type": "code",
   "execution_count": 28,
   "id": "a9c62f08",
   "metadata": {},
   "outputs": [
    {
     "name": "stdout",
     "output_type": "stream",
     "text": [
      "4\n",
      "A\n",
      "BC\n",
      "CDE\n",
      "DEFG\n"
     ]
    }
   ],
   "source": [
    "n = int(input())\n",
    "i =1 \n",
    "while i <= n:\n",
    "    j = 1\n",
    "    start_char = chr(ord('A') + i - 1)\n",
    "    while j <= i:\n",
    "        charOrd = chr(ord(start_char) + j - 1)\n",
    "        print(charOrd, end=\"\")\n",
    "        j += 1\n",
    "    print()\n",
    "    i += 1"
   ]
  },
  {
   "cell_type": "markdown",
   "id": "f3912de8",
   "metadata": {},
   "source": [
    "### Printing Pattern for - \n",
    "            \n",
    "            E\n",
    "            DE\n",
    "            CDE\n",
    "            BCDE\n",
    "            ABCDE        "
   ]
  },
  {
   "cell_type": "code",
   "execution_count": 31,
   "id": "e7c39540",
   "metadata": {},
   "outputs": [
    {
     "name": "stdout",
     "output_type": "stream",
     "text": [
      "5\n",
      "E\n",
      "DE\n",
      "CDE\n",
      "BCDE\n",
      "ABCDE\n"
     ]
    }
   ],
   "source": [
    "n = int(input())\n",
    "i = n\n",
    "k = 1\n",
    "while i >= 1:\n",
    "    j = 1\n",
    "    start_char = chr(ord('A') + i - 1)\n",
    "    while j <= k:\n",
    "        charOrd = chr (ord(start_char) + j - 1)\n",
    "        print(charOrd, end=\"\")\n",
    "        j += 1\n",
    "    print()\n",
    "    i -= 1\n",
    "    k += 1"
   ]
  }
 ],
 "metadata": {
  "kernelspec": {
   "display_name": "Python 3 (ipykernel)",
   "language": "python",
   "name": "python3"
  },
  "language_info": {
   "codemirror_mode": {
    "name": "ipython",
    "version": 3
   },
   "file_extension": ".py",
   "mimetype": "text/x-python",
   "name": "python",
   "nbconvert_exporter": "python",
   "pygments_lexer": "ipython3",
   "version": "3.10.4"
  }
 },
 "nbformat": 4,
 "nbformat_minor": 5
}
