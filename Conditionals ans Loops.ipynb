{
 "cells": [
  {
   "cell_type": "code",
   "execution_count": 5,
   "id": "51d9c35b",
   "metadata": {},
   "outputs": [
    {
     "name": "stdout",
     "output_type": "stream",
     "text": [
      "12\n",
      "7\n",
      "Only one input of yours is greater than 10\n"
     ]
    }
   ],
   "source": [
    "a = int(input())\n",
    "b = int(input())\n",
    "if a > 10 and b > 10:\n",
    "    print(\"yes the numbers are greater then 10\")\n",
    "elif a > 10 or b > 10:\n",
    "    print(\"Only one input of yours is greater than 10\")\n",
    "else:\n",
    "    print(\"No numbers are not greater than 10\")"
   ]
  },
  {
   "cell_type": "code",
   "execution_count": 15,
   "id": "4d062171",
   "metadata": {},
   "outputs": [
    {
     "name": "stdout",
     "output_type": "stream",
     "text": [
      "B\n"
     ]
    }
   ],
   "source": [
    "if True or True:\n",
    "    if False and True or False:\n",
    "        print('A')\n",
    "    elif False and False or True and True:\n",
    "        print('B')\n",
    "    else:\n",
    "        print('C')\n",
    "else:\n",
    "     print('D')"
   ]
  },
  {
   "cell_type": "markdown",
   "id": "b23c0190",
   "metadata": {},
   "source": [
    "# Check which is the largest number"
   ]
  },
  {
   "cell_type": "code",
   "execution_count": 10,
   "id": "c381f68c",
   "metadata": {},
   "outputs": [
    {
     "name": "stdout",
     "output_type": "stream",
     "text": [
      "2\n",
      "2\n",
      "2\n",
      "a is the largest number -  2\n"
     ]
    }
   ],
   "source": [
    "a = int(input())\n",
    "b = int(input())\n",
    "c = int(input())\n",
    "if a >= b and a >= c:\n",
    "    print(\"a is the largest number - \", a)\n",
    "elif b >= a and b >= c:\n",
    "    print(\"b is the largest number - \", b)\n",
    "elif a==b==c:\n",
    "    print(\"All numbers are eqqual - \", a or b or c)\n",
    "else:\n",
    "    print(\"c is the largest number - \", c)"
   ]
  },
  {
   "cell_type": "markdown",
   "id": "50d72613",
   "metadata": {},
   "source": [
    "# ##Check an integer"
   ]
  },
  {
   "cell_type": "code",
   "execution_count": 13,
   "id": "08e94944",
   "metadata": {},
   "outputs": [
    {
     "name": "stdout",
     "output_type": "stream",
     "text": [
      "-3\n",
      "Negative\n"
     ]
    }
   ],
   "source": [
    "n = int(input())\n",
    "if n > 0:\n",
    "    print(\"Positive\")\n",
    "elif n < 0:\n",
    "    print(\"Negative\")\n",
    "else:\n",
    "    print(\"Zero\")"
   ]
  }
 ],
 "metadata": {
  "kernelspec": {
   "display_name": "Python 3 (ipykernel)",
   "language": "python",
   "name": "python3"
  },
  "language_info": {
   "codemirror_mode": {
    "name": "ipython",
    "version": 3
   },
   "file_extension": ".py",
   "mimetype": "text/x-python",
   "name": "python",
   "nbconvert_exporter": "python",
   "pygments_lexer": "ipython3",
   "version": "3.10.4"
  }
 },
 "nbformat": 4,
 "nbformat_minor": 5
}
