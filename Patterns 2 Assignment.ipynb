{
 "cells": [
  {
   "cell_type": "markdown",
   "id": "28d1d23e",
   "metadata": {},
   "source": [
    "### Printing the Pattern - \n",
    "\n",
    "\n",
    "            1\n",
    "           212\n",
    "          32123\n",
    "         4321234\n",
    "        543212345 "
   ]
  },
  {
   "cell_type": "code",
   "execution_count": 8,
   "id": "c74b74f3",
   "metadata": {},
   "outputs": [
    {
     "name": "stdout",
     "output_type": "stream",
     "text": [
      "5\n",
      "    1\n",
      "   212\n",
      "  32123\n",
      " 4321234\n",
      "543212345\n"
     ]
    }
   ],
   "source": [
    "n = int(input())\n",
    "i = 1\n",
    "while i <= n:\n",
    "    space = 1\n",
    "    while space <= (n - i):\n",
    "        print(\" \", end = \"\")\n",
    "        space += 1\n",
    "    num = 1\n",
    "    i_init = i\n",
    "    while num <= i:\n",
    "        print(i_init, end = \"\")\n",
    "        num += 1\n",
    "        i_init -= 1\n",
    "    rev_num = 1\n",
    "    x = 2\n",
    "    while rev_num <= (i -1):\n",
    "        print(x, end = \"\")\n",
    "        x += 1\n",
    "        rev_num += 1\n",
    "    print()\n",
    "    i += 1"
   ]
  },
  {
   "cell_type": "markdown",
   "id": "ac8f2482",
   "metadata": {},
   "source": [
    "### Printing Pattern - \n",
    "\n",
    "            1        1\n",
    "            12      21\n",
    "            123    321\n",
    "            1234  4321\n",
    "            1234554321\n",
    "            "
   ]
  },
  {
   "cell_type": "code",
   "execution_count": 12,
   "id": "b5a49cbd",
   "metadata": {},
   "outputs": [
    {
     "name": "stdout",
     "output_type": "stream",
     "text": [
      "5\n",
      "1        1\n",
      "12      21\n",
      "123    321\n",
      "1234  4321\n",
      "1234554321\n"
     ]
    }
   ],
   "source": [
    "n = int(input())\n",
    "i = n\n",
    "while i >= 1:\n",
    "    num = 1\n",
    "    while num <= (n + 1) - i:\n",
    "        print(num, end = \"\")\n",
    "        num += 1\n",
    "        \n",
    "    # Printing Spaces - \n",
    "    space = 1\n",
    "    while space <= 2*i - 2:\n",
    "        print(\" \", end = \"\")\n",
    "        space += 1\n",
    "    \n",
    "    # Printing reverse num - \n",
    "    rev_num = 1\n",
    "    x = ((n + 1) - i)\n",
    "    while rev_num <= x:\n",
    "        print(x, end = \"\")\n",
    "        x -= 1\n",
    "    print()\n",
    "    i -= 1\n",
    "    \n",
    "    "
   ]
  },
  {
   "cell_type": "markdown",
   "id": "51b56a85",
   "metadata": {},
   "source": [
    "### Printing Pattern -\n",
    "\n",
    "\n",
    "                *0000*0000*\n",
    "                0*000*000*0\n",
    "                00*00*00*00\n",
    "                000*0*0*000\n",
    "                0000***0000"
   ]
  },
  {
   "cell_type": "code",
   "execution_count": 19,
   "id": "122dee6d",
   "metadata": {
    "scrolled": true
   },
   "outputs": [
    {
     "name": "stdout",
     "output_type": "stream",
     "text": [
      "5\n",
      "*0000*0000*\n",
      "0*000*000*0\n",
      "00*00*00*00\n",
      "000*0*0*000\n",
      "0000***0000\n"
     ]
    }
   ],
   "source": [
    "n = int(input())\n",
    "i = 1\n",
    "while i <= n:\n",
    "    j = 1\n",
    "    while j <= i:\n",
    "        if j == i:\n",
    "            print(\"*\", end =\"\")\n",
    "        else:\n",
    "            print(\"0\", end = \"\")\n",
    "        j += 1\n",
    "    \n",
    "    # Printing 2nd left half 0's - \n",
    "    k = 1\n",
    "    while k <= n - i:\n",
    "        print(\"0\", end = \"\")\n",
    "        k += 1\n",
    "    \n",
    "    # Printing centre star line - \n",
    "    l = 1\n",
    "    while l <= 1:\n",
    "        print(\"*\", end = \"\")\n",
    "        l += 1\n",
    "        \n",
    "    # Printing Right half 0's and Spaces - \n",
    "    m = 1\n",
    "    while m <= n:\n",
    "        if m == (n - i) + 1:\n",
    "            print(\"*\", end = \"\")\n",
    "        else:\n",
    "            print(\"0\", end = \"\")\n",
    "        m += 1\n",
    "        \n",
    "    print()\n",
    "    i += 1"
   ]
  },
  {
   "cell_type": "code",
   "execution_count": 50,
   "id": "3868fada",
   "metadata": {},
   "outputs": [
    {
     "name": "stdout",
     "output_type": "stream",
     "text": [
      "11\n",
      "*\n",
      " **\n",
      "  ***\n",
      "   ****\n",
      "    *****\n",
      "     ******\n",
      "    *****\n",
      "   ****\n",
      "  ***\n",
      " **\n",
      "*\n"
     ]
    }
   ],
   "source": [
    "n = int(input())\n",
    "n1 = (n + 1)//2\n",
    "n2 = n//2\n",
    "\n",
    "# Upper Half -\n",
    "i = 1\n",
    "while i <= n1:\n",
    "    space = 1\n",
    "    while space <=  i - 1:\n",
    "        print(\" \", end = \"\")\n",
    "        space += 1\n",
    "    star1 = 1\n",
    "    while star1 <= i:\n",
    "        print(\"*\", end =\"\")\n",
    "        star1 += 1\n",
    "    print()\n",
    "    i += 1\n",
    "    \n",
    "# Lower Half - \n",
    "k = n2\n",
    "while k >= 1:\n",
    "    space2 = 1\n",
    "    while space2 <= k - 1:\n",
    "        print(\" \", end = \"\")\n",
    "        space2 += 1\n",
    "    star2 = 1\n",
    "    while star2 <= k:\n",
    "        print(\"*\", end = \"\")\n",
    "        star2 += 1\n",
    "    print()\n",
    "    k -= 1"
   ]
  },
  {
   "cell_type": "code",
   "execution_count": 22,
   "id": "132532c7",
   "metadata": {},
   "outputs": [
    {
     "name": "stdout",
     "output_type": "stream",
     "text": [
      "3\n"
     ]
    }
   ],
   "source": []
  }
 ],
 "metadata": {
  "kernelspec": {
   "display_name": "Python 3 (ipykernel)",
   "language": "python",
   "name": "python3"
  },
  "language_info": {
   "codemirror_mode": {
    "name": "ipython",
    "version": 3
   },
   "file_extension": ".py",
   "mimetype": "text/x-python",
   "name": "python",
   "nbconvert_exporter": "python",
   "pygments_lexer": "ipython3",
   "version": "3.10.4"
  }
 },
 "nbformat": 4,
 "nbformat_minor": 5
}
