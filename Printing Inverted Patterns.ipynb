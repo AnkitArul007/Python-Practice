{
 "cells": [
  {
   "cell_type": "markdown",
   "id": "5363cd70",
   "metadata": {},
   "source": [
    "### Printing Inverted Triangle - \n",
    "\n",
    "                1 \n",
    "               12\n",
    "              123\n",
    "             1234"
   ]
  },
  {
   "cell_type": "code",
   "execution_count": 6,
   "id": "8d587d12",
   "metadata": {},
   "outputs": [
    {
     "name": "stdout",
     "output_type": "stream",
     "text": [
      "4\n",
      "   1\n",
      "  12\n",
      " 123\n",
      "1234\n"
     ]
    }
   ],
   "source": [
    "n = int(input())\n",
    "i = n\n",
    "while i >= 1:\n",
    "    j = 1\n",
    "    while j <= n:\n",
    "        if j <= (i - 1) :\n",
    "            print(\" \", end=\"\")\n",
    "        else:\n",
    "            print(((j + 1)-i), end=\"\")\n",
    "        j += 1\n",
    "    print()\n",
    "    i -= 1\n"
   ]
  },
  {
   "cell_type": "markdown",
   "id": "81854c25",
   "metadata": {},
   "source": [
    "### Alternate code for the above pattern - "
   ]
  },
  {
   "cell_type": "code",
   "execution_count": 12,
   "id": "c60f6fa0",
   "metadata": {},
   "outputs": [
    {
     "name": "stdout",
     "output_type": "stream",
     "text": [
      "4\n",
      "   1\n",
      "  12\n",
      " 123\n",
      "1234\n"
     ]
    }
   ],
   "source": [
    "n = int(input())\n",
    "i = 1\n",
    "while i <= n:\n",
    "    space = 1\n",
    "    while space <= n - i:\n",
    "        print(\" \", end =\"\")\n",
    "        space += 1\n",
    "    numbers = 1\n",
    "    while numbers <= i:\n",
    "        print(numbers, end =\"\")\n",
    "        numbers += 1\n",
    "    print()\n",
    "    i += 1"
   ]
  },
  {
   "cell_type": "markdown",
   "id": "94e07c7f",
   "metadata": {},
   "source": [
    "### Printing the pattern - \n",
    "\n",
    "        1\n",
    "       121\n",
    "      12321\n",
    "     1234321 "
   ]
  },
  {
   "cell_type": "code",
   "execution_count": 35,
   "id": "08f38d65",
   "metadata": {},
   "outputs": [
    {
     "name": "stdout",
     "output_type": "stream",
     "text": [
      "5\n",
      "    1\n",
      "   121\n",
      "  12321\n",
      " 1234321\n",
      "123454321\n"
     ]
    }
   ],
   "source": [
    "n = int(input())\n",
    "i = 1\n",
    "while i <= n:\n",
    "    spaces = 1\n",
    "    while spaces <= n - i:\n",
    "        print(\" \", end =\"\")\n",
    "        spaces += 1\n",
    "    numbers = 1\n",
    "    while numbers <= i:\n",
    "        print(numbers, end =\"\")\n",
    "        numbers += 1\n",
    "    num = 1\n",
    "    k = i\n",
    "    while num <= i - 1: #----------# defines how man columns to be printed\n",
    "        print(k-1, end =\"\") #------#defines what to be printed\n",
    "        num += 1\n",
    "        k -= 1\n",
    "    print()\n",
    "    i += 1"
   ]
  },
  {
   "cell_type": "code",
   "execution_count": null,
   "id": "59be1824",
   "metadata": {},
   "outputs": [],
   "source": [
    "n = int(input())\n",
    "i = 1\n",
    "while i <= n:\n",
    "    spaces = 1\n",
    "    while spaces <= n - i:\n",
    "        print(\" \", end =\"\")\n",
    "        spaces += 1\n",
    "    numbers = 1\n",
    "    while numbers <= i:\n",
    "        print(\"*\", end =\"\")\n",
    "        numbers += 1\n",
    "    num = 1\n",
    "    k = i\n",
    "    while num <= i - 1:\n",
    "        print(\"*\", end =\"\")\n",
    "        num += 1\n",
    "        k -= 1\n",
    "    print()\n",
    "    i += 1"
   ]
  },
  {
   "cell_type": "markdown",
   "id": "2e70a140",
   "metadata": {},
   "source": [
    "### Printing Patterns - \n",
    "### very Important\n",
    "\n",
    "             1\n",
    "            232\n",
    "           34543\n",
    "          4567654 "
   ]
  },
  {
   "cell_type": "code",
   "execution_count": 60,
   "id": "42762e80",
   "metadata": {},
   "outputs": [
    {
     "name": "stdout",
     "output_type": "stream",
     "text": [
      "5\n",
      "    1\n",
      "   232\n",
      "  34543\n",
      " 4567654\n",
      "567898765\n"
     ]
    }
   ],
   "source": [
    "n = int(input())\n",
    "i = 1\n",
    "d = 1\n",
    "while i <= n:\n",
    "    spaces = 1\n",
    "    while spaces <= n - i:\n",
    "        print(\" \", end =\"\")\n",
    "        spaces += 1\n",
    "    num = i\n",
    "    k = 1\n",
    "    while k <= i:\n",
    "        print(num, end = \"\")\n",
    "        num += 1\n",
    "        k += 1\n",
    "    a = 1\n",
    "    c =  d - 1\n",
    "    while a <= i - 1:\n",
    "        print(c, end =\"\")\n",
    "        a += 1\n",
    "        c -= 1\n",
    "    print()\n",
    "    i += 1\n",
    "    d += 2"
   ]
  },
  {
   "cell_type": "markdown",
   "id": "1c274d6b",
   "metadata": {},
   "source": [
    "### Printing Diamond -\n",
    "            \n",
    "                 *\n",
    "                ***\n",
    "               *****\n",
    "                ***\n",
    "                 *"
   ]
  },
  {
   "cell_type": "code",
   "execution_count": 51,
   "id": "483a5848",
   "metadata": {},
   "outputs": [
    {
     "name": "stdout",
     "output_type": "stream",
     "text": [
      "9\n",
      "    *\n",
      "   ***\n",
      "  *****\n",
      " *******\n",
      "*********\n",
      "  *******\n",
      "   *****\n",
      "   ***\n",
      "    *\n"
     ]
    }
   ],
   "source": [
    "n = int(input())\n",
    "i = 1\n",
    "\n",
    "while i <= n:\n",
    "    # SPACE PART\n",
    "    j = 1\n",
    "    while j <= ((n + 1)//2) -i:\n",
    "        print(\" \", end = \"\")\n",
    "        j += 1\n",
    "    # TOP LEFT HALF - \n",
    "    stars1 = 1\n",
    "    while stars1 <= i:\n",
    "        if i <= (n + 1)//2:\n",
    "            print(\"*\", end = \"\")\n",
    "        stars1 += 1\n",
    "#     TOP RIGHT HALF -\n",
    "    k = 1\n",
    "    while k < i :\n",
    "        if i > 1 and i <= (n + 1)//2:\n",
    "            print(\"*\", end =\"\")\n",
    "        k += 1\n",
    "    # SPACE LEFT BOOTOM - \n",
    "    m = 1\n",
    "    while m < ((i + 1)//2) and i > (n + 1)//2:\n",
    "        print(\" \", end =\"\")\n",
    "        m += 1\n",
    "    # Bottom stars - \n",
    "    star1 = 1\n",
    "    b = 1\n",
    "    while star1 <=(n - i) + 1   and i > (n + 1)//2:\n",
    "        print(\"*\", end = \"\")\n",
    "        star1 += 1\n",
    "        b += 1\n",
    "    # Bottom Right half star - \n",
    "    m = 1\n",
    "    while m <= n - i and i > (n + 1)//2:\n",
    "        print(\"*\", end = \"\")\n",
    "        m += 1\n",
    "   \n",
    "    print()\n",
    "    i += 1\n",
    "    "
   ]
  },
  {
   "cell_type": "code",
   "execution_count": 49,
   "id": "2f987779",
   "metadata": {},
   "outputs": [
    {
     "name": "stdout",
     "output_type": "stream",
     "text": [
      "7\n",
      "   *\n",
      "  ***\n",
      " *****\n",
      "*******\n",
      "  *****\n",
      "  ***\n",
      "   *\n"
     ]
    }
   ],
   "source": [
    "n = int(input())\n",
    "i = 1\n",
    "\n",
    "while i <= n:\n",
    "    # SPACE PART\n",
    "    j = 1\n",
    "    while j <= ((n + 1)//2) -i:\n",
    "        print(\" \", end = \"\")\n",
    "        j += 1\n",
    "    # TOP LEFT HALF - \n",
    "    stars1 = 1\n",
    "    while stars1 <= i:\n",
    "        if i <= (n + 1)//2:\n",
    "            print(\"*\", end = \"\")\n",
    "        stars1 += 1\n",
    "#     TOP RIGHT HALF -\n",
    "    k = 1\n",
    "    while k < i :\n",
    "        if i > 1 and i <= (n + 1)//2:\n",
    "            print(\"*\", end =\"\")\n",
    "        k += 1\n",
    "    # SPACE LEFT BOOTOM - \n",
    "    m = 1\n",
    "    while m < ((i + 1)//2) and i > (n + 1)//2:\n",
    "        print(\" \", end =\"\")\n",
    "        m += 1\n",
    "    # Bottom stars - \n",
    "    star1 = 1\n",
    "    b = 1\n",
    "    while star1 <=(n - i) + 1   and i > (n + 1)//2:\n",
    "        print(\"*\", end = \"\")\n",
    "        star1 += 1\n",
    "        b += 1\n",
    "    # Bottom Right half star - \n",
    "    m = 1\n",
    "    while m <= n - i and i > (n + 1)//2:\n",
    "        print(\"*\", end = \"\")\n",
    "        m += 1\n",
    "   \n",
    "    print()\n",
    "    i += 1\n",
    "    "
   ]
  },
  {
   "cell_type": "code",
   "execution_count": null,
   "id": "c8d48b31",
   "metadata": {},
   "outputs": [],
   "source": []
  }
 ],
 "metadata": {
  "kernelspec": {
   "display_name": "Python 3 (ipykernel)",
   "language": "python",
   "name": "python3"
  },
  "language_info": {
   "codemirror_mode": {
    "name": "ipython",
    "version": 3
   },
   "file_extension": ".py",
   "mimetype": "text/x-python",
   "name": "python",
   "nbconvert_exporter": "python",
   "pygments_lexer": "ipython3",
   "version": "3.10.4"
  }
 },
 "nbformat": 4,
 "nbformat_minor": 5
}
