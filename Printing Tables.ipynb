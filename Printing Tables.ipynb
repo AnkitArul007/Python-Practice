{
 "cells": [
  {
   "cell_type": "markdown",
   "id": "dd45a442",
   "metadata": {},
   "source": [
    "### Printing Tables \n"
   ]
  },
  {
   "cell_type": "code",
   "execution_count": 15,
   "id": "bb0cc928",
   "metadata": {},
   "outputs": [
    {
     "name": "stdout",
     "output_type": "stream",
     "text": [
      "Table Of  1\n",
      "1 X 1 = 1\n",
      "1 X 2 = 2\n",
      "1 X 3 = 3\n",
      "1 X 4 = 4\n",
      "1 X 5 = 5\n",
      "1 X 6 = 6\n",
      "1 X 7 = 7\n",
      "1 X 8 = 8\n",
      "1 X 9 = 9\n",
      "1 X 10 = 10\n",
      "\n",
      "Table Of  2\n",
      "2 X 1 = 2\n",
      "2 X 2 = 4\n",
      "2 X 3 = 6\n",
      "2 X 4 = 8\n",
      "2 X 5 = 10\n",
      "2 X 6 = 12\n",
      "2 X 7 = 14\n",
      "2 X 8 = 16\n",
      "2 X 9 = 18\n",
      "2 X 10 = 20\n",
      "\n",
      "Table Of  3\n",
      "3 X 1 = 3\n",
      "3 X 2 = 6\n",
      "3 X 3 = 9\n",
      "3 X 4 = 12\n",
      "3 X 5 = 15\n",
      "3 X 6 = 18\n",
      "3 X 7 = 21\n",
      "3 X 8 = 24\n",
      "3 X 9 = 27\n",
      "3 X 10 = 30\n",
      "\n",
      "Table Of  4\n",
      "4 X 1 = 4\n",
      "4 X 2 = 8\n",
      "4 X 3 = 12\n",
      "4 X 4 = 16\n",
      "4 X 5 = 20\n",
      "4 X 6 = 24\n",
      "4 X 7 = 28\n",
      "4 X 8 = 32\n",
      "4 X 9 = 36\n",
      "4 X 10 = 40\n",
      "\n",
      "Table Of  5\n",
      "5 X 1 = 5\n",
      "5 X 2 = 10\n",
      "5 X 3 = 15\n",
      "5 X 4 = 20\n",
      "5 X 5 = 25\n",
      "5 X 6 = 30\n",
      "5 X 7 = 35\n",
      "5 X 8 = 40\n",
      "5 X 9 = 45\n",
      "5 X 10 = 50\n",
      "\n",
      "Table Of  6\n",
      "6 X 1 = 6\n",
      "6 X 2 = 12\n",
      "6 X 3 = 18\n",
      "6 X 4 = 24\n",
      "6 X 5 = 30\n",
      "6 X 6 = 36\n",
      "6 X 7 = 42\n",
      "6 X 8 = 48\n",
      "6 X 9 = 54\n",
      "6 X 10 = 60\n",
      "\n",
      "Table Of  7\n",
      "7 X 1 = 7\n",
      "7 X 2 = 14\n",
      "7 X 3 = 21\n",
      "7 X 4 = 28\n",
      "7 X 5 = 35\n",
      "7 X 6 = 42\n",
      "7 X 7 = 49\n",
      "7 X 8 = 56\n",
      "7 X 9 = 63\n",
      "7 X 10 = 70\n",
      "\n",
      "Table Of  8\n",
      "8 X 1 = 8\n",
      "8 X 2 = 16\n",
      "8 X 3 = 24\n",
      "8 X 4 = 32\n",
      "8 X 5 = 40\n",
      "8 X 6 = 48\n",
      "8 X 7 = 56\n",
      "8 X 8 = 64\n",
      "8 X 9 = 72\n",
      "8 X 10 = 80\n",
      "\n",
      "Table Of  9\n",
      "9 X 1 = 9\n",
      "9 X 2 = 18\n",
      "9 X 3 = 27\n",
      "9 X 4 = 36\n",
      "9 X 5 = 45\n",
      "9 X 6 = 54\n",
      "9 X 7 = 63\n",
      "9 X 8 = 72\n",
      "9 X 9 = 81\n",
      "9 X 10 = 90\n",
      "\n",
      "Table Of  10\n",
      "10 X 1 = 10\n",
      "10 X 2 = 20\n",
      "10 X 3 = 30\n",
      "10 X 4 = 40\n",
      "10 X 5 = 50\n",
      "10 X 6 = 60\n",
      "10 X 7 = 70\n",
      "10 X 8 = 80\n",
      "10 X 9 = 90\n",
      "10 X 10 = 100\n",
      "\n"
     ]
    }
   ],
   "source": [
    "for i in range(1b, 11):\n",
    "    print(\"Table Of \", i)\n",
    "    for j in range(1, 11):\n",
    "#         line = i, \"X\", j, \"=\", (i*j)\n",
    "        print(i, \"X\", j, \"=\", (i*j))\n",
    "    print()\n",
    "    "
   ]
  },
  {
   "cell_type": "code",
   "execution_count": null,
   "id": "85610edd",
   "metadata": {},
   "outputs": [],
   "source": []
  },
  {
   "cell_type": "markdown",
   "id": "acfbdbc9",
   "metadata": {},
   "source": [
    "# Sum Of N numbers "
   ]
  },
  {
   "cell_type": "code",
   "execution_count": null,
   "id": "6ad2d444",
   "metadata": {},
   "outputs": [],
   "source": [
    "n = int(input())\n",
    "sum = 0\n",
    "i = 0\n",
    "while i <= n:\n",
    "    sum += i\n",
    "    i += 1\n",
    "print(sum)\n",
    "\n"
   ]
  },
  {
   "cell_type": "markdown",
   "id": "74380ed6",
   "metadata": {},
   "source": [
    "## To print the sum of N even numbers "
   ]
  },
  {
   "cell_type": "code",
   "execution_count": 2,
   "id": "6870fc80",
   "metadata": {},
   "outputs": [
    {
     "name": "stdout",
     "output_type": "stream",
     "text": [
      "5\n",
      "6\n"
     ]
    }
   ],
   "source": [
    "n = int(input())\n",
    "sum = 0\n",
    "i = 0\n",
    "while i <= n:\n",
    "    if i % 2 == 0:\n",
    "        sum += i\n",
    "    else:\n",
    "        pass\n",
    "    i += 1\n",
    "print(sum)\n"
   ]
  },
  {
   "cell_type": "markdown",
   "id": "e9dd9b02",
   "metadata": {},
   "source": [
    "### To print Prime numbers  "
   ]
  },
  {
   "cell_type": "code",
   "execution_count": 7,
   "id": "715ee648",
   "metadata": {},
   "outputs": [
    {
     "name": "stdout",
     "output_type": "stream",
     "text": [
      "99\n",
      " Not - Prime\n"
     ]
    }
   ],
   "source": [
    "n = int(input())\n",
    "d = 2\n",
    "flag = False\n",
    "while d < n:\n",
    "    if n % d == 0:\n",
    "        flag = True\n",
    "    d = d + 1\n",
    "if flag:\n",
    "    print(\" Not - Prime\")\n",
    "else:\n",
    "    print(\" Prime\")"
   ]
  },
  {
   "cell_type": "markdown",
   "id": "2a57eb88",
   "metadata": {},
   "source": [
    "### Printing 1st 100 prime numbers "
   ]
  },
  {
   "cell_type": "code",
   "execution_count": 10,
   "id": "893fc051",
   "metadata": {
    "scrolled": true
   },
   "outputs": [
    {
     "name": "stdout",
     "output_type": "stream",
     "text": [
      "10\n",
      "2 is prime\n",
      "3 is prime\n",
      "5 is prime\n",
      "7 is prime\n"
     ]
    }
   ],
   "source": [
    "n = int(input())\n",
    "for num in range(2, n):\n",
    "#     if num > 1:(OPTIONAL STATEMENT BUT IF IT IS THERE MAKE RANGE IN NUM FROM 1)\n",
    "        for i in range(2, num):\n",
    "            if num % i == 0:\n",
    "                break\n",
    "        else:\n",
    "            print(num, \"is prime\")\n"
   ]
  },
  {
   "cell_type": "code",
   "execution_count": 16,
   "id": "cf7b9534",
   "metadata": {
    "scrolled": false
   },
   "outputs": [
    {
     "name": "stdout",
     "output_type": "stream",
     "text": [
      "Enter the lower limit - 1\n",
      "Enter the upper limit - 1001\n",
      "2 is a prime number between  1 and 1001\n",
      "3 is a prime number between  1 and 1001\n",
      "5 is a prime number between  1 and 1001\n",
      "7 is a prime number between  1 and 1001\n",
      "11 is a prime number between  1 and 1001\n",
      "13 is a prime number between  1 and 1001\n",
      "17 is a prime number between  1 and 1001\n",
      "19 is a prime number between  1 and 1001\n",
      "23 is a prime number between  1 and 1001\n",
      "29 is a prime number between  1 and 1001\n",
      "31 is a prime number between  1 and 1001\n",
      "37 is a prime number between  1 and 1001\n",
      "41 is a prime number between  1 and 1001\n",
      "43 is a prime number between  1 and 1001\n",
      "47 is a prime number between  1 and 1001\n",
      "53 is a prime number between  1 and 1001\n",
      "59 is a prime number between  1 and 1001\n",
      "61 is a prime number between  1 and 1001\n",
      "67 is a prime number between  1 and 1001\n",
      "71 is a prime number between  1 and 1001\n",
      "73 is a prime number between  1 and 1001\n",
      "79 is a prime number between  1 and 1001\n",
      "83 is a prime number between  1 and 1001\n",
      "89 is a prime number between  1 and 1001\n",
      "97 is a prime number between  1 and 1001\n",
      "101 is a prime number between  1 and 1001\n",
      "103 is a prime number between  1 and 1001\n",
      "107 is a prime number between  1 and 1001\n",
      "109 is a prime number between  1 and 1001\n",
      "113 is a prime number between  1 and 1001\n",
      "127 is a prime number between  1 and 1001\n",
      "131 is a prime number between  1 and 1001\n",
      "137 is a prime number between  1 and 1001\n",
      "139 is a prime number between  1 and 1001\n",
      "149 is a prime number between  1 and 1001\n",
      "151 is a prime number between  1 and 1001\n",
      "157 is a prime number between  1 and 1001\n",
      "163 is a prime number between  1 and 1001\n",
      "167 is a prime number between  1 and 1001\n",
      "173 is a prime number between  1 and 1001\n",
      "179 is a prime number between  1 and 1001\n",
      "181 is a prime number between  1 and 1001\n",
      "191 is a prime number between  1 and 1001\n",
      "193 is a prime number between  1 and 1001\n",
      "197 is a prime number between  1 and 1001\n",
      "199 is a prime number between  1 and 1001\n",
      "211 is a prime number between  1 and 1001\n",
      "223 is a prime number between  1 and 1001\n",
      "227 is a prime number between  1 and 1001\n",
      "229 is a prime number between  1 and 1001\n",
      "233 is a prime number between  1 and 1001\n",
      "239 is a prime number between  1 and 1001\n",
      "241 is a prime number between  1 and 1001\n",
      "251 is a prime number between  1 and 1001\n",
      "257 is a prime number between  1 and 1001\n",
      "263 is a prime number between  1 and 1001\n",
      "269 is a prime number between  1 and 1001\n",
      "271 is a prime number between  1 and 1001\n",
      "277 is a prime number between  1 and 1001\n",
      "281 is a prime number between  1 and 1001\n",
      "283 is a prime number between  1 and 1001\n",
      "293 is a prime number between  1 and 1001\n",
      "307 is a prime number between  1 and 1001\n",
      "311 is a prime number between  1 and 1001\n",
      "313 is a prime number between  1 and 1001\n",
      "317 is a prime number between  1 and 1001\n",
      "331 is a prime number between  1 and 1001\n",
      "337 is a prime number between  1 and 1001\n",
      "347 is a prime number between  1 and 1001\n",
      "349 is a prime number between  1 and 1001\n",
      "353 is a prime number between  1 and 1001\n",
      "359 is a prime number between  1 and 1001\n",
      "367 is a prime number between  1 and 1001\n",
      "373 is a prime number between  1 and 1001\n",
      "379 is a prime number between  1 and 1001\n",
      "383 is a prime number between  1 and 1001\n",
      "389 is a prime number between  1 and 1001\n",
      "397 is a prime number between  1 and 1001\n",
      "401 is a prime number between  1 and 1001\n",
      "409 is a prime number between  1 and 1001\n",
      "419 is a prime number between  1 and 1001\n",
      "421 is a prime number between  1 and 1001\n",
      "431 is a prime number between  1 and 1001\n",
      "433 is a prime number between  1 and 1001\n",
      "439 is a prime number between  1 and 1001\n",
      "443 is a prime number between  1 and 1001\n",
      "449 is a prime number between  1 and 1001\n",
      "457 is a prime number between  1 and 1001\n",
      "461 is a prime number between  1 and 1001\n",
      "463 is a prime number between  1 and 1001\n",
      "467 is a prime number between  1 and 1001\n",
      "479 is a prime number between  1 and 1001\n",
      "487 is a prime number between  1 and 1001\n",
      "491 is a prime number between  1 and 1001\n",
      "499 is a prime number between  1 and 1001\n",
      "503 is a prime number between  1 and 1001\n",
      "509 is a prime number between  1 and 1001\n",
      "521 is a prime number between  1 and 1001\n",
      "523 is a prime number between  1 and 1001\n",
      "541 is a prime number between  1 and 1001\n",
      "547 is a prime number between  1 and 1001\n",
      "557 is a prime number between  1 and 1001\n",
      "563 is a prime number between  1 and 1001\n",
      "569 is a prime number between  1 and 1001\n",
      "571 is a prime number between  1 and 1001\n",
      "577 is a prime number between  1 and 1001\n",
      "587 is a prime number between  1 and 1001\n",
      "593 is a prime number between  1 and 1001\n",
      "599 is a prime number between  1 and 1001\n",
      "601 is a prime number between  1 and 1001\n",
      "607 is a prime number between  1 and 1001\n",
      "613 is a prime number between  1 and 1001\n",
      "617 is a prime number between  1 and 1001\n",
      "619 is a prime number between  1 and 1001\n",
      "631 is a prime number between  1 and 1001\n",
      "641 is a prime number between  1 and 1001\n",
      "643 is a prime number between  1 and 1001\n",
      "647 is a prime number between  1 and 1001\n",
      "653 is a prime number between  1 and 1001\n",
      "659 is a prime number between  1 and 1001\n",
      "661 is a prime number between  1 and 1001\n",
      "673 is a prime number between  1 and 1001\n",
      "677 is a prime number between  1 and 1001\n",
      "683 is a prime number between  1 and 1001\n",
      "691 is a prime number between  1 and 1001\n",
      "701 is a prime number between  1 and 1001\n",
      "709 is a prime number between  1 and 1001\n",
      "719 is a prime number between  1 and 1001\n",
      "727 is a prime number between  1 and 1001\n",
      "733 is a prime number between  1 and 1001\n",
      "739 is a prime number between  1 and 1001\n",
      "743 is a prime number between  1 and 1001\n",
      "751 is a prime number between  1 and 1001\n",
      "757 is a prime number between  1 and 1001\n",
      "761 is a prime number between  1 and 1001\n",
      "769 is a prime number between  1 and 1001\n",
      "773 is a prime number between  1 and 1001\n",
      "787 is a prime number between  1 and 1001\n",
      "797 is a prime number between  1 and 1001\n",
      "809 is a prime number between  1 and 1001\n",
      "811 is a prime number between  1 and 1001\n",
      "821 is a prime number between  1 and 1001\n",
      "823 is a prime number between  1 and 1001\n",
      "827 is a prime number between  1 and 1001\n",
      "829 is a prime number between  1 and 1001\n",
      "839 is a prime number between  1 and 1001\n",
      "853 is a prime number between  1 and 1001\n",
      "857 is a prime number between  1 and 1001\n",
      "859 is a prime number between  1 and 1001\n",
      "863 is a prime number between  1 and 1001\n",
      "877 is a prime number between  1 and 1001\n",
      "881 is a prime number between  1 and 1001\n",
      "883 is a prime number between  1 and 1001\n",
      "887 is a prime number between  1 and 1001\n",
      "907 is a prime number between  1 and 1001\n",
      "911 is a prime number between  1 and 1001\n",
      "919 is a prime number between  1 and 1001\n",
      "929 is a prime number between  1 and 1001\n",
      "937 is a prime number between  1 and 1001\n",
      "941 is a prime number between  1 and 1001\n",
      "947 is a prime number between  1 and 1001\n",
      "953 is a prime number between  1 and 1001\n",
      "967 is a prime number between  1 and 1001\n",
      "971 is a prime number between  1 and 1001\n",
      "977 is a prime number between  1 and 1001\n",
      "983 is a prime number between  1 and 1001\n",
      "991 is a prime number between  1 and 1001\n",
      "997 is a prime number between  1 and 1001\n"
     ]
    }
   ],
   "source": [
    "lower = int(input(\"Enter the lower limit - \"))\n",
    "upper = int(input(\"Enter the upper limit - \"))\n",
    "for num in range(lower, upper):\n",
    "    if num > 1:\n",
    "        for i in range(2, num):\n",
    "            if num % i == 0:\n",
    "                break\n",
    "        else:\n",
    "            print(num, \"is a prime number between \", lower, 'and', upper)"
   ]
  },
  {
   "cell_type": "markdown",
   "id": "abd4181c",
   "metadata": {},
   "source": [
    "### Basic Celcius to Fahrenhiet Conversion Code"
   ]
  },
  {
   "cell_type": "code",
   "execution_count": 5,
   "id": "00167a11",
   "metadata": {},
   "outputs": [
    {
     "name": "stdout",
     "output_type": "stream",
     "text": [
      "80\n",
      "26.666666666666668\n"
     ]
    }
   ],
   "source": [
    "f = float(input())\n",
    "c = (f - 32)*5/9\n",
    "print(c)"
   ]
  },
  {
   "cell_type": "markdown",
   "id": "2cc7bf2d",
   "metadata": {},
   "source": [
    "#####  Given three values - Start Fahrenheit Value (S), End Fahrenheit value (E) and Step Size (W), you need to convert all Fahrenheit values from Start to End at the gap of W, into their corresponding Celsius values and print the table."
   ]
  },
  {
   "cell_type": "code",
   "execution_count": null,
   "id": "87a3c4c6",
   "metadata": {},
   "outputs": [
    {
     "name": "stdout",
     "output_type": "stream",
     "text": [
      "Enter the Start Fahrenheit Value - 0\n",
      "Enter the End Fahrenheit Value - 100\n",
      "Enter the step Size - 20\n",
      "0   -17\n",
      "20   -6\n",
      "40   4\n",
      "60   15\n",
      "80   26\n",
      "100   37\n"
     ]
    }
   ],
   "source": [
    "S = int(input(\"Enter the Start Fahrenheit Value - \"))\n",
    "E = int(input(\"Enter the End Fahrenheit Value - \"))\n",
    "W = int(input(\"Enter the step Size - \"))\n",
    "\n",
    "\n",
    "while True:\n",
    "    f = S\n",
    "    if S <= E:\n",
    "        c = (f - 32)* 5/9\n",
    "        print(f, \" \", int(c))\n",
    "        S += W"
   ]
  },
  {
   "cell_type": "code",
   "execution_count": 6,
   "id": "e68e236f",
   "metadata": {
    "scrolled": true
   },
   "outputs": [
    {
     "name": "stdout",
     "output_type": "stream",
     "text": [
      "0\n",
      "100\n",
      "10\n",
      "0 -17\n",
      "10 -12\n",
      "20 -6\n",
      "30 -1\n",
      "40 4\n",
      "50 10\n",
      "60 15\n",
      "70 21\n",
      "80 26\n",
      "90 32\n",
      "100 37\n"
     ]
    }
   ],
   "source": [
    "s=int(input())\n",
    "e=int(input())\n",
    "w=int(input())\n",
    "while True:\n",
    "    c=0\n",
    "    if s<=e:\n",
    "        c=(s-32)*5/9\n",
    "        print(s,int(c))\n",
    "        s = s + w\n",
    "\n",
    "    else:break"
   ]
  },
  {
   "cell_type": "code",
   "execution_count": 7,
   "id": "4cbcbdc4",
   "metadata": {},
   "outputs": [
    {
     "name": "stdout",
     "output_type": "stream",
     "text": [
      "0\n",
      "100\n",
      "10\n",
      "0  -17\n",
      "10  -12\n",
      "20  -6\n",
      "30  -1\n",
      "40  4\n",
      "50  10\n",
      "60  15\n",
      "70  21\n",
      "80  26\n",
      "90  32\n",
      "100  37\n"
     ]
    }
   ],
   "source": [
    "s = int(input())\n",
    "e = int(input())\n",
    "w = int(input())\n",
    "while s <= e:\n",
    "    c = (s - 32)*5/9\n",
    "    print(s, \"\", int(c))\n",
    "    s += w"
   ]
  },
  {
   "cell_type": "code",
   "execution_count": 7,
   "id": "fea3f4f2",
   "metadata": {},
   "outputs": [
    {
     "name": "stdout",
     "output_type": "stream",
     "text": [
      "2\n",
      "3\n",
      "4\n",
      "1\n",
      "5\n"
     ]
    }
   ],
   "source": [
    "choice = int(input())\n",
    "\n",
    "if choice == 1:\n",
    "    a = int(input())\n",
    "    b = int(input())\n",
    "    c = a + b\n",
    "    print(c)\n",
    "    choice = int(input())\n",
    "\n",
    "elif choice == 2:\n",
    "    a = int(input())\n",
    "    b = int(input())\n",
    "    if a < b:\n",
    "        a,b = b,a\n",
    "    c = a - b\n",
    "    print(c)\n",
    "    choice = int(input())\n",
    "elif choice == 3:\n",
    "    a = int(input())\n",
    "    b = int(input())\n",
    "    c = a * b\n",
    "    print(c)\n",
    "elif choice == 4:\n",
    "    a = int(input())\n",
    "    b = int(input())\n",
    "    c = a / b\n",
    "    print(c)\n",
    "    choice = int(input())\n",
    "elif choice == 5:\n",
    "    a = int(input())\n",
    "    b = int(input())\n",
    "    c = a % b\n",
    "    print(c)\n",
    "    choice = int(input())\n",
    "\n",
    "# elif choice == 6:\n",
    "#     break\n",
    "\n",
    "\n",
    "else:\n",
    "    print(\"Invalid Operation\")\n",
    "\n",
    "\n",
    "\n",
    "\n",
    "\n",
    "        \n",
    "    \n"
   ]
  },
  {
   "cell_type": "code",
   "execution_count": null,
   "id": "1d215d56",
   "metadata": {},
   "outputs": [],
   "source": []
  }
 ],
 "metadata": {
  "kernelspec": {
   "display_name": "Python 3 (ipykernel)",
   "language": "python",
   "name": "python3"
  },
  "language_info": {
   "codemirror_mode": {
    "name": "ipython",
    "version": 3
   },
   "file_extension": ".py",
   "mimetype": "text/x-python",
   "name": "python",
   "nbconvert_exporter": "python",
   "pygments_lexer": "ipython3",
   "version": "3.10.4"
  }
 },
 "nbformat": 4,
 "nbformat_minor": 5
}
