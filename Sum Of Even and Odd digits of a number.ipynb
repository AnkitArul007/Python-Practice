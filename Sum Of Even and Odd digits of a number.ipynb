{
 "cells": [
  {
   "cell_type": "markdown",
   "id": "a9ebfe1b",
   "metadata": {},
   "source": [
    "#### Write a program to input an integer N and print the sum of all its even digits and sum of all its odd digits separately.\n",
    "Digits mean numbers, not the places! That is, if the given integer is \"13245\", even digits are 2 & 4 and odd digits are 1, 3 & 5."
   ]
  },
  {
   "cell_type": "code",
   "execution_count": 1,
   "id": "e72dd8b5",
   "metadata": {},
   "outputs": [
    {
     "name": "stdout",
     "output_type": "stream",
     "text": [
      "1234\n",
      "6   4\n"
     ]
    }
   ],
   "source": [
    "n = int(input())\n",
    "even = 0\n",
    "odd = 0\n",
    "while n > 0:\n",
    "    r = n % 10\n",
    "    if r % 2 == 0:\n",
    "        even += r\n",
    "    else:\n",
    "        odd += r\n",
    "    n = n // 10\n",
    "print(even, \" \", odd)"
   ]
  },
  {
   "cell_type": "code",
   "execution_count": null,
   "id": "44935da5",
   "metadata": {},
   "outputs": [
    {
     "name": "stderr",
     "output_type": "stream",
     "text": [
      "<>:5: SyntaxWarning: 'int' object is not callable; perhaps you missed a comma?\n",
      "<>:5: SyntaxWarning: 'int' object is not callable; perhaps you missed a comma?\n",
      "<>:5: SyntaxWarning: 'int' object is not callable; perhaps you missed a comma?\n",
      "<>:5: SyntaxWarning: 'int' object is not callable; perhaps you missed a comma?\n"
     ]
    }
   ],
   "source": [
    "n = int(input())\n",
    "i = n\n",
    "while i >= 1:\n",
    "    j = 1\n",
    "    while j <= 2(i - 2):\n",
    "        print(\"#\", end = \"\")\n",
    "        j += 1\n",
    "    print()\n",
    "    i -= 1\n",
    "    \n",
    "    "
   ]
  }
 ],
 "metadata": {
  "kernelspec": {
   "display_name": "Python 3 (ipykernel)",
   "language": "python",
   "name": "python3"
  },
  "language_info": {
   "codemirror_mode": {
    "name": "ipython",
    "version": 3
   },
   "file_extension": ".py",
   "mimetype": "text/x-python",
   "name": "python",
   "nbconvert_exporter": "python",
   "pygments_lexer": "ipython3",
   "version": "3.10.4"
  }
 },
 "nbformat": 4,
 "nbformat_minor": 5
}
